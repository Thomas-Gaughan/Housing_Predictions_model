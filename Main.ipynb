{
 "cells": [
  {
   "cell_type": "code",
   "execution_count": 1,
   "id": "8b0f662a",
   "metadata": {},
   "outputs": [],
   "source": [
    "import numpy as np\n",
    "import pandas as pd\n",
    "\n",
    "from sklearn.linear_model import LinearRegression\n",
    "from sklearn.gaussian_process import GaussianProcessRegressor\n",
    "from sklearn.tree import DecisionTreeRegressor\n",
    "from sklearn.ensemble import RandomForestRegressor\n",
    "from sklearn.neighbors import KNeighborsRegressor\n",
    "\n",
    "from sklearn.metrics import mean_absolute_percentage_error\n",
    "from sklearn.model_selection import train_test_split\n",
    "from sklearn.model_selection import KFold\n",
    "from scipy.stats import norm\n",
    "\n",
    "import random as rand\n",
    "import matplotlib.pyplot as plt\n",
    "\n",
    "import itertools\n"
   ]
  },
  {
   "cell_type": "markdown",
   "id": "d712f9f0",
   "metadata": {},
   "source": [
    "\n",
    "# Results of Optimisation \n",
    "\n",
    "Decided to use mean absolute percentage error as the metric for scoring the model. I wanted a metric that could see the average mistake for a prediction, and this works well for a regression problem. \n",
    "\n",
    "## Best scores:\n",
    "\n",
    "linear regression: 0.412558 <br>\n",
    "decision tree: 0.283174 <br>\n",
    "random forest: 0.303546<br>\n",
    "gpr: 0.522058<br>\n",
    "\n",
    "I decided to go with decision tree as it has the lowest mean absolute percentage error\n",
    "\n",
    "\n",
    "the hyperparameters are \n",
    "k=15 <br>\n",
    "min_samples_split = 2<br>\n",
    "min_samples_leaf= 1\t<br>\n",
    "min_impurity_decrease = 0.0\t<br>\n",
    "criterion = absolute_error\t<br>\n"
   ]
  },
  {
   "cell_type": "code",
   "execution_count": 6,
   "id": "bae9cad6",
   "metadata": {},
   "outputs": [],
   "source": [
    "\n",
    "\n",
    "def run_model():\n",
    "    \n",
    "    k=15\n",
    "    \n",
    "    \n",
    "    data = pd.read_csv('london_house_prices_ajusted.csv')\n",
    "\n",
    "    kfold = KFold(n_splits=k, shuffle=True)\n",
    "\n",
    "    abs_errors = []\n",
    "    models = []\n",
    "\n",
    "    for train, test in kfold.split(data):\n",
    "\n",
    "        model = DecisionTreeRegressor(criterion='absolute_error', max_depth=None, min_samples_split=2, min_samples_leaf=1, min_impurity_decrease=0.0)\n",
    "\n",
    "        \n",
    "        train = data.iloc[train]\n",
    "        test = data.iloc[test]\n",
    "\n",
    "\n",
    "        input_x = train.drop(\"price_pounds\", axis='columns')\n",
    "        input_y = train.price_pounds\n",
    "\n",
    "\n",
    "        model.fit(input_x, input_y)\n",
    "        \n",
    "        preds = model.predict(test.drop(\"price_pounds\", axis='columns'))\n",
    "\n",
    "        abs_error = mean_absolute_percentage_error(y_true=test.price_pounds, y_pred=preds )\n",
    "\n",
    "        abs_errors.append(abs_error)\n",
    "        \n",
    "        models.append(model)\n",
    "        \n",
    "    return abs_errors, models"
   ]
  },
  {
   "cell_type": "code",
   "execution_count": 7,
   "id": "0b7e987f",
   "metadata": {},
   "outputs": [],
   "source": [
    "errors, model = run_model()"
   ]
  },
  {
   "cell_type": "code",
   "execution_count": 8,
   "id": "86ef62a6",
   "metadata": {},
   "outputs": [],
   "source": [
    "lowest_value = min(errors)\n",
    "model_number = errors.index(lowest_value)\n",
    "best_model = model[model_number]"
   ]
  },
  {
   "cell_type": "code",
   "execution_count": 9,
   "id": "d974c715",
   "metadata": {},
   "outputs": [
    {
     "data": {
      "text/plain": [
       "0.018602645282907986"
      ]
     },
     "execution_count": 9,
     "metadata": {},
     "output_type": "execute_result"
    }
   ],
   "source": [
    "data = pd.read_csv('london_house_prices_ajusted.csv')\n",
    "\n",
    "preds = best_model.predict(data.drop(\"price_pounds\", axis='columns'))\n",
    "\n",
    "error = mean_absolute_percentage_error(y_true=data.price_pounds, y_pred=preds )\n",
    "\n",
    "error"
   ]
  },
  {
   "cell_type": "code",
   "execution_count": null,
   "id": "63072700",
   "metadata": {},
   "outputs": [],
   "source": []
  }
 ],
 "metadata": {
  "kernelspec": {
   "display_name": "Python 3 (ipykernel)",
   "language": "python",
   "name": "python3"
  },
  "language_info": {
   "codemirror_mode": {
    "name": "ipython",
    "version": 3
   },
   "file_extension": ".py",
   "mimetype": "text/x-python",
   "name": "python",
   "nbconvert_exporter": "python",
   "pygments_lexer": "ipython3",
   "version": "3.11.5"
  }
 },
 "nbformat": 4,
 "nbformat_minor": 5
}
