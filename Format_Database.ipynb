{
 "cells": [
  {
   "cell_type": "code",
   "execution_count": 2,
   "id": "f8b688f7",
   "metadata": {},
   "outputs": [],
   "source": [
    "import numpy as np\n",
    "import pandas as pd\n",
    "from sklearn.linear_model import LinearRegression\n",
    "from sklearn.gaussian_process import GaussianProcessRegressor\n",
    "from sklearn.metrics import mean_absolute_percentage_error\n",
    "from sklearn.model_selection import train_test_split\n",
    "from sklearn.model_selection import KFold\n"
   ]
  },
  {
   "cell_type": "markdown",
   "id": "c7808598",
   "metadata": {},
   "source": [
    "# Formating the dataset \n",
    "\n",
    "This file converts the dataset into a format that can be read by the models"
   ]
  },
  {
   "cell_type": "code",
   "execution_count": 3,
   "id": "e24911c5",
   "metadata": {},
   "outputs": [
    {
     "data": {
      "text/plain": [
       "Index(['id', 'bedrooms', 'bathrooms', 'tenure', 'garden', 'street',\n",
       "       'size_sqft', 'price_pounds', 'nearest_station_name',\n",
       "       'nearest_station_miles', 'postcode_outer'],\n",
       "      dtype='object')"
      ]
     },
     "execution_count": 3,
     "metadata": {},
     "output_type": "execute_result"
    }
   ],
   "source": [
    "\n",
    "#Get the data and output the columns\n",
    "\n",
    "data = pd.read_csv('london_house_prices.csv')\n",
    "\n",
    "data.columns\n"
   ]
  },
  {
   "cell_type": "code",
   "execution_count": 4,
   "id": "fee59161",
   "metadata": {},
   "outputs": [],
   "source": [
    "\n",
    "\n",
    "#Functions to remove unnecessary characters \n",
    "# Stops \"St. John's\" street and \"St. Johns\" street being read as different \n",
    "\n",
    "def tidy_up_string(string):\n",
    "    \n",
    "        string = string.replace('\\n', '')\n",
    "        string = string.replace('\\r\\n', '')\n",
    "        string = string.replace(\"'s\", '')\n",
    "        string = string.replace('`s', '')\n",
    "        string = string.replace(\"'\", '')\n",
    "        string = string.replace(\".\", '')\n",
    "    \n",
    "        return string\n",
    "    \n",
    "\n"
   ]
  },
  {
   "cell_type": "markdown",
   "id": "aa562d6d",
   "metadata": {},
   "source": [
    "\n",
    "## Target Encoding \n",
    "\n",
    "Replaces each catagorical variable with the average score for that catagory "
   ]
  },
  {
   "cell_type": "code",
   "execution_count": 5,
   "id": "6cf91081",
   "metadata": {},
   "outputs": [],
   "source": [
    "def target_encoding(data, unique_values, name_of_col):\n",
    "        \n",
    "    #1 itterate through unique values in the column input\n",
    "    #2 get the mean of all the scores for that value\n",
    "    #3 replace all scores values with that mean\n",
    "    \n",
    "    values_to_replace = {}\n",
    "    \n",
    "    #1\n",
    "    for value in unique_values:\n",
    "       \n",
    "        #2\n",
    "        prices = (data[data[name_of_col] == value]['price_pounds']).tolist()\n",
    "        \n",
    "        values_to_replace[value] = (sum(prices) / len(prices))\n",
    "        \n",
    "    #3 \n",
    "    data[name_of_col] = data[name_of_col].replace(values_to_replace)\n",
    "    \n",
    "    return data\n"
   ]
  },
  {
   "cell_type": "markdown",
   "id": "4f9715fe",
   "metadata": {},
   "source": [
    "## Fix the address column \n",
    "\n",
    "the Addresses in the dataset had many different formats. Addresses typically contain 5 lines but sometimes some lines were omitted.\n",
    "<br><br> Addressees' name / House number\n",
    "<br> street name\n",
    "<br>Locality name \n",
    "<br>TOWN \n",
    "<br>FULL POSTCODE \n",
    "\n",
    "The only consistent part was street name so I extracted out the street name for each address. I used .split(\",\") to split the address up by section. Depending on how many lines of the address were present would change where the street was located in the string. I pulled the street out of the address and ran it through the tidy up function. Finally replaced it in the list\n"
   ]
  },
  {
   "cell_type": "code",
   "execution_count": 6,
   "id": "b5574c55",
   "metadata": {},
   "outputs": [],
   "source": [
    "unique_streets = data.street.unique()\n",
    "area_replace_list = {}\n",
    "\n",
    "for street in unique_streets:\n",
    "    \n",
    "    split_street_name = street.split(\", \")\n",
    "        \n",
    "    if(len(split_street_name) == 5):\n",
    "        \n",
    "        area_replace_list[street] = tidy_up_string(split_street_name[3])\n",
    "        \n",
    "    if(len(split_street_name) == 4):\n",
    "        \n",
    "        area_replace_list[street] = tidy_up_string(split_street_name[2])\n",
    "\n",
    "    if(len(split_street_name) == 3):\n",
    "         \n",
    "        area_replace_list[street] = tidy_up_string(split_street_name[1])\n",
    "                    \n",
    "    if(len(split_street_name) == 2):\n",
    "         \n",
    "        area_replace_list[street] = \"London\"\n",
    "            \n",
    "    if(len(split_street_name) == 1):\n",
    "        \n",
    "        split_street_name = split_street_name[0].split(',')\n",
    "        \n",
    "        area_replace_list[street] = tidy_up_string(split_street_name[0])\n",
    "\n",
    "               \n",
    "data['street'] = data['street'].replace(area_replace_list)\n"
   ]
  },
  {
   "cell_type": "markdown",
   "id": "27fdc252",
   "metadata": {},
   "source": [
    "Do hot one encoding on one the tenure feature <br>\n",
    "Drop unneeded rows<br>\n",
    "Fill in NaNs"
   ]
  },
  {
   "cell_type": "code",
   "execution_count": 7,
   "id": "8d90f804",
   "metadata": {},
   "outputs": [],
   "source": [
    "\n",
    "#Do hot one encoding on one the tenure feature \n",
    "data[\"tenure_freehold\"] = (data[\"tenure\"] ==  \"freehold\")\n",
    "data[\"tenure_leasehold\"] = (data[\"tenure\"] ==  \"leasehold\")\n",
    "\n",
    "#Drop un needed columns \n",
    "data = data.drop(\"tenure\", axis='columns')\n",
    "data = data.drop(\"size_sqft\", axis='columns')\n",
    "data = data.drop(\"id\", axis='columns')\n",
    "\n",
    "#Fill in NaNs\n",
    "#Postcode is fine to create a new category for NaNs because most of the categories are located in central London \n",
    "data[\"postcode_outer\"] = data[\"postcode_outer\"].fillna(\"X\")\n",
    "\n",
    "#Filling in NaNs with one for number of bedrooms and bathrooms, I’m assuming every location has at least one  \n",
    "data[\"bedrooms\"] = data[\"bedrooms\"].fillna(1)\n",
    "data[\"bathrooms\"] = data[\"bathrooms\"].fillna(1)\n"
   ]
  },
  {
   "cell_type": "markdown",
   "id": "11f1008e",
   "metadata": {},
   "source": [
    "## Call the Target Encoding Function"
   ]
  },
  {
   "cell_type": "code",
   "execution_count": 8,
   "id": "21df8e9e",
   "metadata": {},
   "outputs": [],
   "source": [
    "data = target_encoding(data, data.nearest_station_name.unique(), 'nearest_station_name')\n",
    "\n",
    "data = target_encoding(data, data.street.unique(), 'street')\n",
    "\n",
    "data = target_encoding(data, data.postcode_outer.unique(), \"postcode_outer\")\n",
    "\n",
    "\n",
    "\n",
    "\n"
   ]
  },
  {
   "cell_type": "markdown",
   "id": "1c68f1dc",
   "metadata": {},
   "source": [
    "## Save data in a new file "
   ]
  },
  {
   "cell_type": "code",
   "execution_count": 9,
   "id": "eca0cd6a",
   "metadata": {},
   "outputs": [],
   "source": [
    "data.to_csv('london_house_prices_ajusted.csv', index=False)"
   ]
  }
 ],
 "metadata": {
  "kernelspec": {
   "display_name": "Python 3 (ipykernel)",
   "language": "python",
   "name": "python3"
  },
  "language_info": {
   "codemirror_mode": {
    "name": "ipython",
    "version": 3
   },
   "file_extension": ".py",
   "mimetype": "text/x-python",
   "name": "python",
   "nbconvert_exporter": "python",
   "pygments_lexer": "ipython3",
   "version": "3.11.5"
  }
 },
 "nbformat": 4,
 "nbformat_minor": 5
}
