{
 "cells": [
  {
   "cell_type": "code",
   "execution_count": 1,
   "id": "3066d46c",
   "metadata": {},
   "outputs": [],
   "source": [
    "import numpy as np\n",
    "import pandas as pd\n",
    "\n",
    "from sklearn.linear_model import LinearRegression\n",
    "from sklearn.gaussian_process import GaussianProcessRegressor\n",
    "from sklearn.tree import DecisionTreeRegressor\n",
    "from sklearn.ensemble import RandomForestRegressor\n",
    "from sklearn.neighbors import KNeighborsRegressor\n",
    "\n",
    "from sklearn.metrics import mean_absolute_percentage_error\n",
    "from sklearn.model_selection import train_test_split\n",
    "from sklearn.model_selection import KFold\n",
    "from scipy.stats import norm\n",
    "\n",
    "import random as rand\n",
    "import matplotlib.pyplot as plt\n",
    "\n",
    "import itertools\n"
   ]
  },
  {
   "cell_type": "markdown",
   "id": "c90942ca",
   "metadata": {},
   "source": [
    "## optimising gaussian process regressor\n",
    "\n",
    "gpr optimises the hyper parameters for you so all is needed is to find the best number of k folds"
   ]
  },
  {
   "cell_type": "code",
   "execution_count": 2,
   "id": "d09b58f9",
   "metadata": {},
   "outputs": [],
   "source": [
    "\n",
    "#Runs K fold Validation\n",
    "#Use KFold() to generate k sets of folds\n",
    "#Itterate through the folds and find the mean_absolute_percentage_error of each fold\n",
    "#Then find an average for all the mean_absolute_percentage_error's and return it\n",
    "\n",
    "def run_gaussian_process_regressor(k):\n",
    "    model = GaussianProcessRegressor() \n",
    "    \n",
    "    data = pd.read_csv('london_house_prices_ajusted.csv')\n",
    "    \n",
    "    kfold = KFold(n_splits=k, shuffle=True)\n",
    "\n",
    "    abs_errors = []\n",
    "\n",
    "    for train, test in kfold.split(data):\n",
    "\n",
    "        train = data.iloc[train]\n",
    "        test = data.iloc[test]\n",
    "\n",
    "\n",
    "        input_x = train.drop(\"price_pounds\", axis='columns')\n",
    "        input_y = train.price_pounds\n",
    "\n",
    "\n",
    "        model.fit(input_x, input_y)\n",
    "        \n",
    "        preds = model.predict(test.drop(\"price_pounds\", axis='columns'))\n",
    "\n",
    "        abs_error = mean_absolute_percentage_error(y_true=test.price_pounds, y_pred=preds )\n",
    "        abs_errors.append(abs_error)\n",
    "    \n",
    "    return(sum(abs_errors)/k) \n",
    "\n",
    "\n"
   ]
  },
  {
   "cell_type": "code",
   "execution_count": 3,
   "id": "42005834",
   "metadata": {},
   "outputs": [],
   "source": [
    "\n",
    "loop = [run_gaussian_process_regressor(i) for i in range(2,36)]\n"
   ]
  },
  {
   "cell_type": "code",
   "execution_count": 6,
   "id": "cbb42e66",
   "metadata": {},
   "outputs": [
    {
     "data": {
      "text/plain": [
       "0.5220582711573823"
      ]
     },
     "execution_count": 6,
     "metadata": {},
     "output_type": "execute_result"
    }
   ],
   "source": [
    "min(loop)"
   ]
  },
  {
   "cell_type": "code",
   "execution_count": null,
   "id": "ef4991b5",
   "metadata": {},
   "outputs": [],
   "source": []
  },
  {
   "cell_type": "code",
   "execution_count": null,
   "id": "0f158c6f",
   "metadata": {},
   "outputs": [],
   "source": []
  }
 ],
 "metadata": {
  "kernelspec": {
   "display_name": "Python 3 (ipykernel)",
   "language": "python",
   "name": "python3"
  },
  "language_info": {
   "codemirror_mode": {
    "name": "ipython",
    "version": 3
   },
   "file_extension": ".py",
   "mimetype": "text/x-python",
   "name": "python",
   "nbconvert_exporter": "python",
   "pygments_lexer": "ipython3",
   "version": "3.11.5"
  }
 },
 "nbformat": 4,
 "nbformat_minor": 5
}
