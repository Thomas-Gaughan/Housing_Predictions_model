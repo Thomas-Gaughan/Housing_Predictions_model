{
 "cells": [
  {
   "cell_type": "markdown",
   "id": "63e483c0",
   "metadata": {},
   "source": [
    "# Datasheet \n",
    "## Motivation\n",
    "The dataset used is called London housing. It’s a dataset from Kaggle by a user named bertiemackie. The dataset doesn’t have a listed reason for existing but because the creator is a data analyst It can be assumed that it was assembled to make models and study. \n",
    "## Composition\n",
    "The dataset is made up of 10 columns of numerical values that represent aspects of various houses. There are 934 rows. Each row is made up of data scraped from various listing websites. There were a few gaps in the bathrooms and bedrooms columns likely due to them not being listed on the website, the square ft column has many blank spaces so it had to be dropped. Dataset is self-contained doesn’t have recommended test train splits and is made from publicly available data. \n",
    "## Collection process\n",
    "Data was obtained by scraping various listing websites. The data was collected in 2023. There was no ethical process considered \n",
    "## Preprocessing/cleaning/labelling\n",
    "Data was cleaned in the following ways<br>\n",
    "•\tStreet name extracted from address <br>\n",
    "•\tAddress column dropped <br>\n",
    "•\tStreet column had the following characters removed: \\n  \\r\\n  ‘s   s   ‘   .<br>\n",
    "•\tTenure encoded as 2 more Boolean columns “freehold” and “leasehold”<br>\n",
    "•\ttenure, size_sqft and id were dropped <br>\n",
    "•\tpostcode_outer had blank spaces filled in with an “X”<br>\n",
    "•\tempty bedrooms and bathrooms spaces were filled with a 1<br>\n",
    "•\tnearest_station_name,  street and postcode_outer were target encoded<br>\n",
    "Raw and processed data are saved \n",
    "## Uses\n",
    "Data could also be used to track changes in house prices over time or track prices by area. Dataset may face issues if laws change regarding use of public information to train AI models. \n",
    "## Distribution\n",
    "the dataset is publicly available on Kaggle, any adjustments will remain private to the housing association I work for.  Maintenance will be carried out by creator of this model.\n"
   ]
  },
  {
   "cell_type": "code",
   "execution_count": null,
   "id": "52d1f1dd",
   "metadata": {},
   "outputs": [],
   "source": []
  },
  {
   "cell_type": "markdown",
   "id": "33c469ee",
   "metadata": {},
   "source": [
    "# Model card \n",
    "\n",
    "\n",
    "### Overview\n",
    "This model uses machine learning models to predict the prices of houses in London based on publicly available data. \n",
    "### Input and output\n",
    " Input: number of bedrooms, number of bathrooms, tenure, garden, Address, nearest station name, nearest station miles,  postcode\n",
    "Output: A prediction of the price in pounds\n",
    "\n",
    "### Attributes in training data\n",
    "•\tbedrooms -  Int, number of bedrooms <br>\n",
    "•\tbathrooms -  Int, number of bathrooms<br>\n",
    "•\ttenure – either ‘leasehold’ or ‘freehold’<br>\n",
    "•\tgarden -  Boolean, is there a garden<br>\n",
    "•\tstreet – The address with lines separated by commas <br>\n",
    "•\tsize_sqft -  Int, size of property in square foot <br>\n",
    "•\tprice_pounds -  Int, The price listed – our target variable <br>\n",
    "•\tnearest_station_name – String, nearest station name<br>\n",
    "•\tnearest_station_miles -  Int, the amount of miles to the nearest station<br>\n",
    "•\tpostcode_outer – the postcode <br>\n",
    "### Training data\n",
    "Training data was taken from a Kaggle dataset called London housing by a used named ‘bertiemackie.’ It is made of data scraped from online listing websites\n",
    "### Preprocessing\n",
    "Data is pre-processed using a script. Datasheet has more details  \n",
    "### Architecture\n",
    "The model was created using SKLearn. After comparing the results of hyper parameter tuning 4 models. I found that a decision tree was the best. It uses the following hyper parameters: \n",
    "k=15 <br>\n",
    "min_samples_split = 2<br>\n",
    "min_samples_leaf= 1\t<br>\n",
    "min_impurity_decrease = 0.0\t<br>\n",
    "criterion = absolute_error\t<br>"
   ]
  },
  {
   "cell_type": "code",
   "execution_count": null,
   "id": "456b70f6",
   "metadata": {},
   "outputs": [],
   "source": []
  }
 ],
 "metadata": {
  "kernelspec": {
   "display_name": "Python 3 (ipykernel)",
   "language": "python",
   "name": "python3"
  },
  "language_info": {
   "codemirror_mode": {
    "name": "ipython",
    "version": 3
   },
   "file_extension": ".py",
   "mimetype": "text/x-python",
   "name": "python",
   "nbconvert_exporter": "python",
   "pygments_lexer": "ipython3",
   "version": "3.11.5"
  }
 },
 "nbformat": 4,
 "nbformat_minor": 5
}
